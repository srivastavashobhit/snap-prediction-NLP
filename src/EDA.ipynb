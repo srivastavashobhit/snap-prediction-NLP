{
 "cells": [
  {
   "cell_type": "code",
   "execution_count": 1,
   "metadata": {},
   "outputs": [],
   "source": [
    "from collections import Counter\n",
    "from utils.lstm_utils import *"
   ]
  },
  {
   "cell_type": "code",
   "execution_count": 2,
   "metadata": {},
   "outputs": [],
   "source": [
    "# Load data from text file\n",
    "with open('corpora/snaps_corpa_train.txt', 'r') as file:\n",
    "    sentences_train = file.read().splitlines()"
   ]
  },
  {
   "cell_type": "code",
   "execution_count": 9,
   "metadata": {},
   "outputs": [],
   "source": [
    "data_file = 'corpora/snaps_corpa_train.txt'\n",
    "test_sentence_inputs, test_sentence_outputs = get_test_data(data_file,7)"
   ]
  },
  {
   "cell_type": "code",
   "execution_count": 10,
   "metadata": {},
   "outputs": [
    {
     "data": {
      "text/plain": [
       "17103"
      ]
     },
     "execution_count": 10,
     "metadata": {},
     "output_type": "execute_result"
    }
   ],
   "source": [
    "len(test_sentence_outputs)"
   ]
  },
  {
   "cell_type": "code",
   "execution_count": 11,
   "metadata": {},
   "outputs": [],
   "source": [
    "snap_count = Counter(test_sentence_outputs)"
   ]
  },
  {
   "cell_type": "code",
   "execution_count": 12,
   "metadata": {},
   "outputs": [],
   "source": [
    "sorted_counts = sorted(snap_count.items(), key=lambda item: item[1], reverse=True)\n"
   ]
  },
  {
   "cell_type": "code",
   "execution_count": 13,
   "metadata": {},
   "outputs": [
    {
     "data": {
      "text/plain": [
       "[('transform-datatransform', 5802),\n",
       " ('flow-union', 3222),\n",
       " ('flow-router', 2221),\n",
       " ('flow-copy', 1283),\n",
       " ('workday-workdaywrite', 1280),\n",
       " ('binary-write', 747),\n",
       " ('transform-csvformatter', 642),\n",
       " ('flow-pipeexec', 628),\n",
       " ('transform-multijoin', 205),\n",
       " ('snowflake-bulkupsert', 166),\n",
       " ('flow-filter', 129),\n",
       " ('transform-sort', 82),\n",
       " ('salesforce-update', 66),\n",
       " ('snowflake-scd2', 63),\n",
       " ('transform-jsonformatter', 63),\n",
       " ('transform-conditional', 62),\n",
       " ('transform-jsonsplitter', 41),\n",
       " ('flow-exit', 40),\n",
       " ('sqlserver-insert', 30),\n",
       " ('netsuite-create', 28),\n",
       " ('salesforce-read', 26),\n",
       " ('rest-post', 25),\n",
       " ('transform-unique', 25),\n",
       " ('redshift-multiexecute', 23),\n",
       " ('salesforce-create', 19),\n",
       " ('servicenow-servicenowinsert', 18),\n",
       " ('email-emailsender', 18),\n",
       " ('transform-aggregate', 14),\n",
       " ('transform-groupbyn', 11),\n",
       " ('binary-zip', 8),\n",
       " ('snowflake-insert', 8),\n",
       " ('transform-groupbyfields', 8),\n",
       " ('rest-get', 7),\n",
       " ('amazonsqs-amazonsqsacknowledge', 7),\n",
       " ('google-spreadsheet-worksheetwriter', 6),\n",
       " ('transform-binarytodocument', 6),\n",
       " ('sqlserver-select', 6),\n",
       " ('transform-jsonparser', 6),\n",
       " ('mysql-update', 5),\n",
       " ('redshift-bulkupdate', 5),\n",
       " ('binary-s3filereader', 5),\n",
       " ('binary-fileoperation', 5),\n",
       " ('mysql-insert', 4),\n",
       " ('workday-workdayread', 4),\n",
       " ('hive-execute', 4),\n",
       " ('flow-tail', 3),\n",
       " ('flow-gate', 3),\n",
       " ('binary-s3filewriter', 3),\n",
       " ('binary-simpleread', 3),\n",
       " ('transform-structuraltransform', 3),\n",
       " ('oracle-merge', 2),\n",
       " ('redshift-insert', 2),\n",
       " ('rest-patch', 2),\n",
       " ('anaplan-actionjob', 2),\n",
       " ('dynamicsfo-create', 1),\n",
       " ('tableau9-rest-tableaurest', 1),\n",
       " ('netsuite-lookup', 1),\n",
       " ('sap-execute', 1),\n",
       " ('script-script', 1),\n",
       " ('sqlserver-execute', 1),\n",
       " ('anaplan-upload', 1)]"
      ]
     },
     "execution_count": 13,
     "metadata": {},
     "output_type": "execute_result"
    }
   ],
   "source": [
    "sorted_counts\n"
   ]
  },
  {
   "cell_type": "code",
   "execution_count": null,
   "metadata": {},
   "outputs": [],
   "source": []
  }
 ],
 "metadata": {
  "kernelspec": {
   "display_name": "main",
   "language": "python",
   "name": "python3"
  },
  "language_info": {
   "codemirror_mode": {
    "name": "ipython",
    "version": 3
   },
   "file_extension": ".py",
   "mimetype": "text/x-python",
   "name": "python",
   "nbconvert_exporter": "python",
   "pygments_lexer": "ipython3",
   "version": "3.10.6"
  },
  "orig_nbformat": 4
 },
 "nbformat": 4,
 "nbformat_minor": 2
}
