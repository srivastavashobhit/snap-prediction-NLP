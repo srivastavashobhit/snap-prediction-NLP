{
 "cells": [
  {
   "cell_type": "code",
   "execution_count": 29,
   "metadata": {},
   "outputs": [],
   "source": [
    "import json\n",
    "import pandas as pd\n",
    "import math\n",
    "import numpy as np"
   ]
  },
  {
   "cell_type": "code",
   "execution_count": 2,
   "metadata": {},
   "outputs": [
    {
     "name": "stdout",
     "output_type": "stream",
     "text": [
      "Attributes in JSON data: dict_keys(['class_id', 'class_version', 'project_name', 'path', 'entries', 'shared', 'partition_shared', 'metadata'])\n"
     ]
    }
   ],
   "source": [
    "f = open('snaplogic_pipeline_catalog.json',)\n",
    "data = json.load(f)\n",
    "print(\"Attributes in JSON data:\", data.keys())"
   ]
  },
  {
   "cell_type": "code",
   "execution_count": 3,
   "metadata": {},
   "outputs": [
    {
     "name": "stdout",
     "output_type": "stream",
     "text": [
      "Total number of pipelines in data 184\n",
      "Type of data in entries: <class 'dict'>\n"
     ]
    }
   ],
   "source": [
    "# entries contains a list of SnapLogic Pipelines\n",
    "entries = data['entries'] # a list of SnapLogic pipeline. Each pipeline is saved as a dict.\n",
    "print(\"Total number of pipelines in data\", len(entries))\n",
    "print(\"Type of data in entries:\", type(entries[0]))"
   ]
  },
  {
   "cell_type": "code",
   "execution_count": 4,
   "metadata": {},
   "outputs": [
    {
     "name": "stdout",
     "output_type": "stream",
     "text": [
      "Type of data in entries: dict_keys(['class_fqid', 'instance_version', 'link_serial', 'path_id', 'property_map', 'render_map', 'snap_map', 'link_map', 'class_id', 'class_version', 'instance_id', 'instance_fqid', 'create_time', 'update_time', 'update_user_id', 'create_user_id', 'migrate_version', 'scrub_backup', 'scrub_version', 'path', 'snode_id', 'project_snode_id', 'partition_snode_id', 'name', 'target_runtime', 'org_id', 'org_snode_id'])\n"
     ]
    }
   ],
   "source": [
    "# Keys in each entries\n",
    "print(\"Type of data in entries:\", entries[0].keys())"
   ]
  },
  {
   "cell_type": "code",
   "execution_count": 5,
   "metadata": {},
   "outputs": [
    {
     "name": "stdout",
     "output_type": "stream",
     "text": [
      "Type of entry in each snap_map <class 'dict'>\n",
      "Keys in each snap_map dict_keys(['d6e9734d-4e1c-4b52-ad5d-2488b339cdfb', 'ad47db88-580b-4be7-b44b-da48e6445f28', 'cff61e30-31af-456d-9c65-2fd78d93d58c', '520aa42b-6858-4ab3-9a1d-ebc42d8cd2fe', '887c6e92-7eac-423e-b560-d75731d92510', 'e9b95dce-df1c-4c01-b5e8-2b5c51ac98ca', '09b66421-6caa-491c-9a6d-4dc0fc44a9d5', 'ab6cbf22-8dbc-4e79-9254-bb1ffe701200'])\n"
     ]
    }
   ],
   "source": [
    "# An important attributes is - snap_map\n",
    "print(\"Type of entry in each snap_map\", type(entries[0]['snap_map']))\n",
    "print(\"Keys in each snap_map\",entries[0]['snap_map'].keys())"
   ]
  },
  {
   "cell_type": "code",
   "execution_count": 6,
   "metadata": {},
   "outputs": [
    {
     "data": {
      "text/plain": [
       "'com-snaplogic-snaps-servicenow-servicenowquery'"
      ]
     },
     "execution_count": 6,
     "metadata": {},
     "output_type": "execute_result"
    }
   ],
   "source": [
    "entries[0]['snap_map']['d6e9734d-4e1c-4b52-ad5d-2488b339cdfb']['class_id']"
   ]
  },
  {
   "cell_type": "code",
   "execution_count": 7,
   "metadata": {},
   "outputs": [
    {
     "name": "stdout",
     "output_type": "stream",
     "text": [
      "Type of entry in each snap_map <class 'dict'>\n",
      "Keys in each snap_map dict_keys(['link124', 'link125', 'link126', 'link114', 'link123', 'link116', 'link129'])\n"
     ]
    }
   ],
   "source": [
    "# An important attributes is - link_map\n",
    "print(\"Type of entry in each snap_map\", type(entries[0]['link_map']))\n",
    "print(\"Keys in each snap_map\",entries[0]['link_map'].keys())"
   ]
  },
  {
   "cell_type": "code",
   "execution_count": 8,
   "metadata": {},
   "outputs": [
    {
     "name": "stdout",
     "output_type": "stream",
     "text": [
      "link124\n",
      "Source (Input)\t\t\t d6e9734d-4e1c-4b52-ad5d-2488b339cdfb \t com-snaplogic-snaps-servicenow-servicenowquery\n",
      "Destination (Output)\t\t cff61e30-31af-456d-9c65-2fd78d93d58c \t com-snaplogic-snaps-flow-router\n",
      "\n",
      "link125\n",
      "Source (Input)\t\t\t e9b95dce-df1c-4c01-b5e8-2b5c51ac98ca \t com-snaplogic-snaps-transform-datatransform\n",
      "Destination (Output)\t\t ab6cbf22-8dbc-4e79-9254-bb1ffe701200 \t com-snaplogic-snaps-transform-sort\n",
      "\n",
      "link126\n",
      "Source (Input)\t\t\t cff61e30-31af-456d-9c65-2fd78d93d58c \t com-snaplogic-snaps-flow-router\n",
      "Destination (Output)\t\t e9b95dce-df1c-4c01-b5e8-2b5c51ac98ca \t com-snaplogic-snaps-transform-datatransform\n",
      "\n",
      "link114\n",
      "Source (Input)\t\t\t 520aa42b-6858-4ab3-9a1d-ebc42d8cd2fe \t com-snaplogic-snaps-transform-groupbyn\n",
      "Destination (Output)\t\t 887c6e92-7eac-423e-b560-d75731d92510 \t com-snaplogic-snaps-transform-datatransform\n",
      "\n",
      "link123\n",
      "Source (Input)\t\t\t ab6cbf22-8dbc-4e79-9254-bb1ffe701200 \t com-snaplogic-snaps-transform-sort\n",
      "Destination (Output)\t\t ad47db88-580b-4be7-b44b-da48e6445f28 \t com-snaplogic-snaps-flow-head\n",
      "\n",
      "link116\n",
      "Source (Input)\t\t\t ad47db88-580b-4be7-b44b-da48e6445f28 \t com-snaplogic-snaps-flow-head\n",
      "Destination (Output)\t\t 520aa42b-6858-4ab3-9a1d-ebc42d8cd2fe \t com-snaplogic-snaps-transform-groupbyn\n",
      "\n",
      "link129\n",
      "Source (Input)\t\t\t 887c6e92-7eac-423e-b560-d75731d92510 \t com-snaplogic-snaps-transform-datatransform\n",
      "Destination (Output)\t\t 09b66421-6caa-491c-9a6d-4dc0fc44a9d5 \t com-snaplogic-snaps-rest-post\n",
      "\n"
     ]
    }
   ],
   "source": [
    "for i in entries[0]['link_map'].keys():\n",
    "    print(i)\n",
    "    src_id = entries[0]['link_map'][i]['src_id']\n",
    "    dst_id = entries[0]['link_map'][i]['dst_id']\n",
    "    src_class_id = entries[0]['snap_map'][src_id]['class_id']\n",
    "    dst_class_id = entries[0]['snap_map'][dst_id]['class_id']\n",
    "    print(\"Source (Input)\\t\\t\\t\", src_id, '\\t', src_class_id)\n",
    "    print(\"Destination (Output)\\t\\t\", dst_id, '\\t', dst_class_id)\n",
    "    print()"
   ]
  },
  {
   "cell_type": "code",
   "execution_count": 47,
   "metadata": {},
   "outputs": [],
   "source": [
    "max_count = - math.inf\n",
    "entry_max_count = \"\"\n",
    "df = pd.DataFrame(columns=['Input','Output'])\n",
    "entry_index = 0\n",
    "max_entry_index = 0\n",
    "for entry in entries:\n",
    "    count = 0\n",
    "    for i in entry['link_map'].keys():\n",
    "        # print(i)\n",
    "        count += 1\n",
    "        src_id = entry['link_map'][i]['src_id']\n",
    "        dst_id = entry['link_map'][i]['dst_id']\n",
    "        #print(src_id)\n",
    "        src_class_id = entry['snap_map'][src_id]['class_id']\n",
    "        dst_class_id = entry['snap_map'][dst_id]['class_id']\n",
    "        # print(\"Source (Input)\\t\\t\\t\", src_id, '\\t', src_class_id)\n",
    "        # print(\"Destination (Output)\\t\\t\", dst_id, '\\t', dst_class_id)\n",
    "        temp_df = pd.DataFrame({'Input':[src_class_id],'Output':[dst_class_id]})\n",
    "        df = pd.concat([df, temp_df], ignore_index = True)\n",
    "    if count>max_count:\n",
    "        max_count=count\n",
    "        entry_max_count = entry\n",
    "        max_entry_index = entry_index\n",
    "    entry_index += 1"
   ]
  },
  {
   "cell_type": "code",
   "execution_count": null,
   "metadata": {},
   "outputs": [],
   "source": [
    "max_count = - math.inf\n",
    "entry_max_count = \"\"\n",
    "df = pd.DataFrame(columns=['Input','Output'])\n",
    "entry_index = 0\n",
    "max_entry_index = 0\n",
    "for entry in entries:\n",
    "    count = 0\n",
    "    for i in entry['link_map'].keys():\n",
    "        # print(i)\n",
    "        count += 1\n",
    "        src_id = entry['link_map'][i]['src_id']\n",
    "        dst_id = entry['link_map'][i]['dst_id']\n",
    "        #print(src_id)\n",
    "        src_class_id = entry['snap_map'][src_id]['class_id']\n",
    "        dst_class_id = entry['snap_map'][dst_id]['class_id']\n",
    "        # print(\"Source (Input)\\t\\t\\t\", src_id, '\\t', src_class_id)\n",
    "        # print(\"Destination (Output)\\t\\t\", dst_id, '\\t', dst_class_id)\n",
    "        temp_df = pd.DataFrame({'Input':[src_class_id],'Output':[dst_class_id]})\n",
    "        df = pd.concat([df, temp_df], ignore_index = True)\n",
    "    if count>max_count:\n",
    "        max_count=count\n",
    "        entry_max_count = entry\n",
    "        max_entry_index = entry_index\n",
    "    entry_index += 1"
   ]
  },
  {
   "cell_type": "code",
   "execution_count": 48,
   "metadata": {},
   "outputs": [],
   "source": [
    "df.to_csv(\"snaps_input_output.csv\")"
   ]
  },
  {
   "cell_type": "code",
   "execution_count": 104,
   "metadata": {},
   "outputs": [
    {
     "data": {
      "text/plain": [
       "com-snaplogic-snaps-transform-datatransform    468\n",
       "com-snaplogic-snaps-flow-copy                  149\n",
       "com-snaplogic-snaps-flow-router                144\n",
       "com-snaplogic-snaps-transform-jsonsplitter      58\n",
       "com-snaplogic-snaps-flow-filter                 53\n",
       "                                              ... \n",
       "com-snaplogic-snaps-snowflake-bulkload           1\n",
       "com-snaplogic-snaps-binary-pgpdecrypt            1\n",
       "com-snaplogic-snaps-mysql-update                 1\n",
       "com-snaplogic-snaps-jira-get                     1\n",
       "com-snaplogic-snaps-anaplan-upload               1\n",
       "Name: Input, Length: 129, dtype: int64"
      ]
     },
     "execution_count": 104,
     "metadata": {},
     "output_type": "execute_result"
    }
   ],
   "source": [
    "df['Input'].value_counts()"
   ]
  },
  {
   "cell_type": "code",
   "execution_count": 65,
   "metadata": {},
   "outputs": [],
   "source": [
    "temp = df[df['Input']==\"com-snaplogic-snaps-transform-datatransform\"]['Output'].value_counts()/df[df['Input']==\"com-snaplogic-snaps-transform-datatransform\"]['Output'].value_counts().shape[0]"
   ]
  },
  {
   "cell_type": "code",
   "execution_count": 71,
   "metadata": {},
   "outputs": [
    {
     "data": {
      "text/plain": [
       "com-snaplogic-snaps-flow-union                 0.606383\n",
       "com-snaplogic-snaps-transform-datatransform    0.372340\n",
       "com-snaplogic-snaps-flow-copy                  0.329787\n",
       "com-snaplogic-snaps-transform-multijoin        0.319149\n",
       "com-snaplogic-snaps-rest-post                  0.212766\n",
       "Name: Output, dtype: float64"
      ]
     },
     "execution_count": 71,
     "metadata": {},
     "output_type": "execute_result"
    }
   ],
   "source": [
    "temp[temp>0.2]"
   ]
  },
  {
   "cell_type": "code",
   "execution_count": 60,
   "metadata": {},
   "outputs": [
    {
     "data": {
      "text/plain": [
       "94"
      ]
     },
     "execution_count": 60,
     "metadata": {},
     "output_type": "execute_result"
    }
   ],
   "source": [
    "df[df['Input']==\"com-snaplogic-snaps-transform-datatransform\"]['Output'].value_counts().shape[0]"
   ]
  },
  {
   "cell_type": "code",
   "execution_count": 49,
   "metadata": {},
   "outputs": [
    {
     "data": {
      "text/plain": [
       "com-snaplogic-snaps-transform-datatransform    453\n",
       "com-snaplogic-snaps-flow-union                 123\n",
       "com-snaplogic-snaps-transform-multijoin        104\n",
       "com-snaplogic-snaps-flow-router                 68\n",
       "com-snaplogic-snaps-binary-write                62\n",
       "                                              ... \n",
       "com-snaplogic-snaps-binary-directorybrowser      1\n",
       "com-snaplogic-snaps-snowflake-select             1\n",
       "com-snaplogic-snaps-sqlserver-select             1\n",
       "com-snaplogic-snaps-netsuite-update              1\n",
       "com-snaplogic-snaps-anaplan-actionjob            1\n",
       "Name: Output, Length: 154, dtype: int64"
      ]
     },
     "execution_count": 49,
     "metadata": {},
     "output_type": "execute_result"
    }
   ],
   "source": [
    "df['Output'].value_counts()"
   ]
  },
  {
   "cell_type": "code",
   "execution_count": 51,
   "metadata": {},
   "outputs": [
    {
     "data": {
      "text/html": [
       "<div>\n",
       "<style scoped>\n",
       "    .dataframe tbody tr th:only-of-type {\n",
       "        vertical-align: middle;\n",
       "    }\n",
       "\n",
       "    .dataframe tbody tr th {\n",
       "        vertical-align: top;\n",
       "    }\n",
       "\n",
       "    .dataframe thead th {\n",
       "        text-align: right;\n",
       "    }\n",
       "</style>\n",
       "<table border=\"1\" class=\"dataframe\">\n",
       "  <thead>\n",
       "    <tr style=\"text-align: right;\">\n",
       "      <th></th>\n",
       "      <th>Input</th>\n",
       "      <th>Output</th>\n",
       "    </tr>\n",
       "  </thead>\n",
       "  <tbody>\n",
       "    <tr>\n",
       "      <th>2</th>\n",
       "      <td>com-snaplogic-snaps-flow-router</td>\n",
       "      <td>com-snaplogic-snaps-transform-datatransform</td>\n",
       "    </tr>\n",
       "    <tr>\n",
       "      <th>3</th>\n",
       "      <td>com-snaplogic-snaps-transform-groupbyn</td>\n",
       "      <td>com-snaplogic-snaps-transform-datatransform</td>\n",
       "    </tr>\n",
       "    <tr>\n",
       "      <th>7</th>\n",
       "      <td>com-snaplogic-snaps-rest-get</td>\n",
       "      <td>com-snaplogic-snaps-transform-datatransform</td>\n",
       "    </tr>\n",
       "    <tr>\n",
       "      <th>9</th>\n",
       "      <td>com-snaplogic-snaps-workday-workdayread</td>\n",
       "      <td>com-snaplogic-snaps-transform-datatransform</td>\n",
       "    </tr>\n",
       "    <tr>\n",
       "      <th>10</th>\n",
       "      <td>com-snaplogic-snaps-transform-datatransform</td>\n",
       "      <td>com-snaplogic-snaps-transform-datatransform</td>\n",
       "    </tr>\n",
       "    <tr>\n",
       "      <th>...</th>\n",
       "      <td>...</td>\n",
       "      <td>...</td>\n",
       "    </tr>\n",
       "    <tr>\n",
       "      <th>1634</th>\n",
       "      <td>com-snaplogic-snaps-flow-copy</td>\n",
       "      <td>com-snaplogic-snaps-transform-datatransform</td>\n",
       "    </tr>\n",
       "    <tr>\n",
       "      <th>1643</th>\n",
       "      <td>com-snaplogic-snaps-transform-jsonsplitter</td>\n",
       "      <td>com-snaplogic-snaps-transform-datatransform</td>\n",
       "    </tr>\n",
       "    <tr>\n",
       "      <th>1645</th>\n",
       "      <td>com-snaplogic-snaps-flow-pipeexec</td>\n",
       "      <td>com-snaplogic-snaps-transform-datatransform</td>\n",
       "    </tr>\n",
       "    <tr>\n",
       "      <th>1649</th>\n",
       "      <td>com-snaplogic-snaps-transform-conditional</td>\n",
       "      <td>com-snaplogic-snaps-transform-datatransform</td>\n",
       "    </tr>\n",
       "    <tr>\n",
       "      <th>1654</th>\n",
       "      <td>com-snaplogic-snaps-flow-head</td>\n",
       "      <td>com-snaplogic-snaps-transform-datatransform</td>\n",
       "    </tr>\n",
       "  </tbody>\n",
       "</table>\n",
       "<p>453 rows × 2 columns</p>\n",
       "</div>"
      ],
      "text/plain": [
       "                                            Input  \\\n",
       "2                 com-snaplogic-snaps-flow-router   \n",
       "3          com-snaplogic-snaps-transform-groupbyn   \n",
       "7                    com-snaplogic-snaps-rest-get   \n",
       "9         com-snaplogic-snaps-workday-workdayread   \n",
       "10    com-snaplogic-snaps-transform-datatransform   \n",
       "...                                           ...   \n",
       "1634                com-snaplogic-snaps-flow-copy   \n",
       "1643   com-snaplogic-snaps-transform-jsonsplitter   \n",
       "1645            com-snaplogic-snaps-flow-pipeexec   \n",
       "1649    com-snaplogic-snaps-transform-conditional   \n",
       "1654                com-snaplogic-snaps-flow-head   \n",
       "\n",
       "                                           Output  \n",
       "2     com-snaplogic-snaps-transform-datatransform  \n",
       "3     com-snaplogic-snaps-transform-datatransform  \n",
       "7     com-snaplogic-snaps-transform-datatransform  \n",
       "9     com-snaplogic-snaps-transform-datatransform  \n",
       "10    com-snaplogic-snaps-transform-datatransform  \n",
       "...                                           ...  \n",
       "1634  com-snaplogic-snaps-transform-datatransform  \n",
       "1643  com-snaplogic-snaps-transform-datatransform  \n",
       "1645  com-snaplogic-snaps-transform-datatransform  \n",
       "1649  com-snaplogic-snaps-transform-datatransform  \n",
       "1654  com-snaplogic-snaps-transform-datatransform  \n",
       "\n",
       "[453 rows x 2 columns]"
      ]
     },
     "execution_count": 51,
     "metadata": {},
     "output_type": "execute_result"
    }
   ],
   "source": [
    "df[df['Output']==\"com-snaplogic-snaps-transform-datatransform\"]"
   ]
  },
  {
   "cell_type": "code",
   "execution_count": 20,
   "metadata": {},
   "outputs": [
    {
     "data": {
      "text/plain": [
       "dict_keys(['ef2a1c10-c6b2-4146-8757-6378e25ce37c', '2e6216ef-c34f-4fd8-9c83-ee8fa6c3c23a', '29968739-f199-486f-9122-362e42223bb7'])"
      ]
     },
     "execution_count": 20,
     "metadata": {},
     "output_type": "execute_result"
    }
   ],
   "source": [
    "entries[1]['snap_map'].keys()"
   ]
  },
  {
   "cell_type": "code",
   "execution_count": 21,
   "metadata": {},
   "outputs": [
    {
     "data": {
      "text/plain": [
       "dict_keys(['link100', 'link101'])"
      ]
     },
     "execution_count": 21,
     "metadata": {},
     "output_type": "execute_result"
    }
   ],
   "source": [
    "entries[1]['link_map'].keys()"
   ]
  },
  {
   "cell_type": "code",
   "execution_count": null,
   "metadata": {},
   "outputs": [],
   "source": []
  }
 ],
 "metadata": {
  "kernelspec": {
   "display_name": "main",
   "language": "python",
   "name": "python3"
  },
  "language_info": {
   "codemirror_mode": {
    "name": "ipython",
    "version": 3
   },
   "file_extension": ".py",
   "mimetype": "text/x-python",
   "name": "python",
   "nbconvert_exporter": "python",
   "pygments_lexer": "ipython3",
   "version": "3.10.6"
  },
  "orig_nbformat": 4,
  "vscode": {
   "interpreter": {
    "hash": "f613c2cfd5b5254c93dd6eb1eac3679fecb880405fc2ab51f40490ec568f6a07"
   }
  }
 },
 "nbformat": 4,
 "nbformat_minor": 2
}
